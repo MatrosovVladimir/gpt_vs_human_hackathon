{
 "cells": [
  {
   "cell_type": "markdown",
   "id": "74aec5f5",
   "metadata": {
    "toc": true
   },
   "source": [
    "<h1><span class=\"tocSkip\"></span></h1>\n",
    "<div class=\"toc\"><ul class=\"toc-item\"><li><span><a href=\"#import\" data-toc-modified-id=\"import-2\"><span class=\"toc-item-num\">2&nbsp;&nbsp;</span>import</a></span></li><li><span><a href=\"#read/head\" data-toc-modified-id=\"read/head-3\"><span class=\"toc-item-num\">3&nbsp;&nbsp;</span>read/head</a></span></li><li><span><a href=\"#metrics\" data-toc-modified-id=\"metrics-4\"><span class=\"toc-item-num\">4&nbsp;&nbsp;</span>metrics</a></span></li><li><span><a href=\"#&quot;label&quot;\" data-toc-modified-id=\"&quot;label&quot;-5\"><span class=\"toc-item-num\">5&nbsp;&nbsp;</span>\"label\"</a></span></li><li><span><a href=\"#split\" data-toc-modified-id=\"split-6\"><span class=\"toc-item-num\">6&nbsp;&nbsp;</span>split</a></span></li><li><span><a href=\"#model\" data-toc-modified-id=\"model-7\"><span class=\"toc-item-num\">7&nbsp;&nbsp;</span>model</a></span></li><li><span><a href=\"#test\" data-toc-modified-id=\"test-8\"><span class=\"toc-item-num\">8&nbsp;&nbsp;</span>test</a></span></li><li><span><a href=\"#baseline\" data-toc-modified-id=\"baseline-9\"><span class=\"toc-item-num\">9&nbsp;&nbsp;</span>baseline</a></span></li></ul></div>"
   ]
  },
  {
   "cell_type": "markdown",
   "id": "668d39ff",
   "metadata": {},
   "source": [
    "## import"
   ]
  },
  {
   "cell_type": "code",
   "execution_count": 1,
   "id": "dbbda607",
   "metadata": {},
   "outputs": [],
   "source": [
    "!pip install sentence_transformers -q"
   ]
  },
  {
   "cell_type": "code",
   "execution_count": 2,
   "id": "c4144cf4",
   "metadata": {},
   "outputs": [],
   "source": [
    "import pandas as pd\n",
    "from sklearn.metrics import f1_score\n",
    "from sklearn import svm\n",
    "from sklearn.model_selection import train_test_split\n",
    "from sklearn.metrics import f1_score\n",
    "from catboost import CatBoostClassifier, Pool"
   ]
  },
  {
   "cell_type": "markdown",
   "id": "6cb36889",
   "metadata": {},
   "source": [
    "## baseline"
   ]
  },
  {
   "cell_type": "code",
   "execution_count": 3,
   "id": "da9b8811",
   "metadata": {},
   "outputs": [],
   "source": [
    "if __name__ == \"__main__\":\n",
    "    df_train = pd.read_csv(\"data/train.csv\")\n",
    "    df_test = pd.read_csv(\"data/test.csv\")"
   ]
  },
  {
   "cell_type": "code",
   "execution_count": 6,
   "id": "059374d6",
   "metadata": {},
   "outputs": [
    {
     "data": {
      "text/plain": [
       "0       0\n",
       "1       1\n",
       "2       1\n",
       "3       0\n",
       "4       0\n",
       "       ..\n",
       "4814    1\n",
       "4815    0\n",
       "4816    0\n",
       "4817    1\n",
       "4818    1\n",
       "Name: label, Length: 4819, dtype: int64"
      ]
     },
     "execution_count": 6,
     "metadata": {},
     "output_type": "execute_result"
    }
   ],
   "source": [
    "y_train=df_train[\"label\"].map({'ai_answer': 1, 'hu_answer': 0})\n",
    "y_train    "
   ]
  },
  {
   "cell_type": "code",
   "execution_count": 8,
   "id": "199faad0",
   "metadata": {},
   "outputs": [
    {
     "data": {
      "application/vnd.jupyter.widget-view+json": {
       "model_id": "f340f5cc7530414fb0fe3f97dc272a59",
       "version_major": 2,
       "version_minor": 0
      },
      "text/plain": [
       "MetricVisualizer(layout=Layout(align_self='stretch', height='500px'))"
      ]
     },
     "metadata": {},
     "output_type": "display_data"
    },
    {
     "name": "stdout",
     "output_type": "stream",
     "text": [
      "0:\tlearn: 0.9077236\ttotal: 234ms\tremaining: 1m 56s\n",
      "10:\tlearn: 0.9359401\ttotal: 1.49s\tremaining: 1m 6s\n",
      "20:\tlearn: 0.9475000\ttotal: 2.69s\tremaining: 1m 1s\n",
      "30:\tlearn: 0.9529559\ttotal: 3.92s\tremaining: 59.3s\n",
      "40:\tlearn: 0.9558885\ttotal: 5.11s\tremaining: 57.3s\n",
      "50:\tlearn: 0.9586880\ttotal: 6.41s\tremaining: 56.4s\n",
      "60:\tlearn: 0.9620725\ttotal: 7.61s\tremaining: 54.8s\n",
      "70:\tlearn: 0.9633009\ttotal: 8.78s\tremaining: 53s\n",
      "80:\tlearn: 0.9672063\ttotal: 9.96s\tremaining: 51.5s\n",
      "90:\tlearn: 0.9684647\ttotal: 11.2s\tremaining: 50.2s\n",
      "100:\tlearn: 0.9686787\ttotal: 12.3s\tremaining: 48.8s\n",
      "110:\tlearn: 0.9695084\ttotal: 13.5s\tremaining: 47.3s\n",
      "120:\tlearn: 0.9724581\ttotal: 14.6s\tremaining: 45.6s\n",
      "130:\tlearn: 0.9726595\ttotal: 15.7s\tremaining: 44.2s\n",
      "140:\tlearn: 0.9747412\ttotal: 16.8s\tremaining: 42.8s\n",
      "150:\tlearn: 0.9759934\ttotal: 17.9s\tremaining: 41.4s\n",
      "160:\tlearn: 0.9772445\ttotal: 19.1s\tremaining: 40.2s\n",
      "170:\tlearn: 0.9790934\ttotal: 20.3s\tremaining: 39s\n",
      "180:\tlearn: 0.9809839\ttotal: 21.5s\tremaining: 37.8s\n",
      "190:\tlearn: 0.9822314\ttotal: 22.6s\tremaining: 36.6s\n",
      "200:\tlearn: 0.9832541\ttotal: 23.7s\tremaining: 35.3s\n",
      "210:\tlearn: 0.9847044\ttotal: 24.9s\tremaining: 34.1s\n",
      "220:\tlearn: 0.9846981\ttotal: 26s\tremaining: 32.8s\n",
      "230:\tlearn: 0.9873837\ttotal: 27.1s\tremaining: 31.6s\n",
      "240:\tlearn: 0.9882110\ttotal: 28.2s\tremaining: 30.3s\n",
      "250:\tlearn: 0.9900785\ttotal: 29.3s\tremaining: 29s\n",
      "260:\tlearn: 0.9909091\ttotal: 30.3s\tremaining: 27.8s\n",
      "270:\tlearn: 0.9919405\ttotal: 31.4s\tremaining: 26.5s\n",
      "280:\tlearn: 0.9925620\ttotal: 32.5s\tremaining: 25.3s\n",
      "290:\tlearn: 0.9931804\ttotal: 33.5s\tremaining: 24.1s\n",
      "300:\tlearn: 0.9940120\ttotal: 34.6s\tremaining: 22.9s\n",
      "310:\tlearn: 0.9944249\ttotal: 35.8s\tremaining: 21.8s\n",
      "320:\tlearn: 0.9944249\ttotal: 37s\tremaining: 20.6s\n",
      "330:\tlearn: 0.9950454\ttotal: 38.1s\tremaining: 19.5s\n",
      "340:\tlearn: 0.9956656\ttotal: 39.3s\tremaining: 18.3s\n",
      "350:\tlearn: 0.9962841\ttotal: 40.5s\tremaining: 17.2s\n",
      "360:\tlearn: 0.9964912\ttotal: 41.6s\tremaining: 16s\n",
      "370:\tlearn: 0.9971110\ttotal: 42.7s\tremaining: 14.9s\n",
      "380:\tlearn: 0.9975237\ttotal: 43.8s\tremaining: 13.7s\n",
      "390:\tlearn: 0.9975227\ttotal: 45s\tremaining: 12.5s\n",
      "400:\tlearn: 0.9977296\ttotal: 46s\tremaining: 11.4s\n",
      "410:\tlearn: 0.9981424\ttotal: 47.1s\tremaining: 10.2s\n",
      "420:\tlearn: 0.9987624\ttotal: 48.2s\tremaining: 9.05s\n",
      "430:\tlearn: 0.9989684\ttotal: 49.4s\tremaining: 7.91s\n",
      "440:\tlearn: 0.9987619\ttotal: 50.5s\tremaining: 6.76s\n",
      "450:\tlearn: 0.9987619\ttotal: 51.7s\tremaining: 5.62s\n",
      "460:\tlearn: 0.9989684\ttotal: 53s\tremaining: 4.48s\n",
      "470:\tlearn: 0.9991749\ttotal: 54.3s\tremaining: 3.34s\n",
      "480:\tlearn: 0.9991749\ttotal: 55.5s\tremaining: 2.19s\n",
      "490:\tlearn: 0.9991749\ttotal: 56.7s\tremaining: 1.04s\n",
      "499:\tlearn: 0.9993813\ttotal: 57.8s\tremaining: 0us\n",
      "CPU times: total: 7min 9s\n",
      "Wall time: 58.4 s\n"
     ]
    },
    {
     "data": {
      "text/plain": [
       "<catboost.core.CatBoostClassifier at 0x163e3fefac0>"
      ]
     },
     "execution_count": 8,
     "metadata": {},
     "output_type": "execute_result"
    }
   ],
   "source": [
    "%%time\n",
    "train_pool = Pool(\n",
    "    data=df_train[['ans_text','q_title']],\n",
    "    label=y_train,\n",
    "    text_features=['ans_text','q_title']\n",
    ")\n",
    "\n",
    "model = CatBoostClassifier(iterations=500, learning_rate=0.1, eval_metric='F1') \n",
    "\n",
    "model.fit(\n",
    "    train_pool,\n",
    "   # eval_set=eval_pool,\n",
    "    plot=True,\n",
    "    verbose=True,\n",
    "    #use_best_model=True,\n",
    "    early_stopping_rounds=50,\n",
    "    metric_period=10\n",
    ")    "
   ]
  },
  {
   "cell_type": "code",
   "execution_count": null,
   "id": "364ac7b9",
   "metadata": {},
   "outputs": [],
   "source": [
    "y_pred=model.predict(df_test[['ans_text','q_title']])\n",
    "\n",
    "df_test[\"label\"] = y_pred\n",
    "df_test[\"label\"] = df_test[\"label\"].map({1: 'ai_answer', 0: 'hu_answer'})\n",
    "df_test[[\"line_id\", \"label\"]].to_csv(\"data/submission.csv\", sep=\",\", index=False)\n"
   ]
  }
 ],
 "metadata": {
  "kernelspec": {
   "display_name": "Python 3 (ipykernel)",
   "language": "python",
   "name": "python3"
  },
  "language_info": {
   "codemirror_mode": {
    "name": "ipython",
    "version": 3
   },
   "file_extension": ".py",
   "mimetype": "text/x-python",
   "name": "python",
   "nbconvert_exporter": "python",
   "pygments_lexer": "ipython3",
   "version": "3.9.16"
  },
  "toc": {
   "base_numbering": "2",
   "nav_menu": {
    "height": "265.994px",
    "width": "190.994px"
   },
   "number_sections": true,
   "sideBar": true,
   "skip_h1_title": true,
   "title_cell": "",
   "title_sidebar": "Contents",
   "toc_cell": true,
   "toc_position": {
    "height": "674.531px",
    "left": "23px",
    "top": "150px",
    "width": "262.173px"
   },
   "toc_section_display": true,
   "toc_window_display": true
  }
 },
 "nbformat": 4,
 "nbformat_minor": 5
}
